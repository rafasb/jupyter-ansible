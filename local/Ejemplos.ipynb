{
 "cells": [
  {
   "cell_type": "markdown",
   "id": "290af7dc-a2e0-4b5f-b7da-75a1c05fa69b",
   "metadata": {},
   "source": [
    "# Ejemplos de uso"
   ]
  },
  {
   "cell_type": "markdown",
   "id": "68591157-534b-4fe8-851a-f8de5142a957",
   "metadata": {},
   "source": [
    "El siguiente ejemplo crea un solo fichero de inventario para todo tipo de equipos, no solo servidores."
   ]
  },
  {
   "cell_type": "code",
   "execution_count": null,
   "id": "244630bf-7187-4fce-a637-7c54b6434158",
   "metadata": {
    "collapsed": true,
    "jupyter": {
     "outputs_hidden": true
    },
    "tags": []
   },
   "outputs": [],
   "source": [
    "!ansible-playbook inventario.yml"
   ]
  },
  {
   "cell_type": "markdown",
   "id": "8359d3fa-3444-4a28-9a7a-d1cc7079e8f2",
   "metadata": {},
   "source": [
    "En el siguiente comando se genera un inventario por cada equipo. Deben ser servidores donde se pueda grabar en disco duro."
   ]
  },
  {
   "cell_type": "code",
   "execution_count": null,
   "id": "ff9be363-1ac3-480a-b77d-2fb7692bf932",
   "metadata": {
    "collapsed": true,
    "jupyter": {
     "outputs_hidden": true
    },
    "tags": []
   },
   "outputs": [],
   "source": [
    "!ansible-playbook inventario_servidores.yml"
   ]
  },
  {
   "cell_type": "markdown",
   "id": "dd76274c-7ebc-496a-861f-627630feab4b",
   "metadata": {},
   "source": [
    "Este ejemplo chequea la viabilidad del comando sin llegar a realizar cambios."
   ]
  },
  {
   "cell_type": "code",
   "execution_count": null,
   "id": "99a8adf6-5440-4782-8cf0-17df45d28886",
   "metadata": {
    "collapsed": true,
    "jupyter": {
     "outputs_hidden": true
    },
    "tags": []
   },
   "outputs": [],
   "source": [
    "!ansible-playbook -C shutdown.yml"
   ]
  },
  {
   "cell_type": "markdown",
   "id": "94b9bf3b-5132-4acb-a9ce-f6baf6664f64",
   "metadata": {},
   "source": [
    "El comando siguiente permite verificar la sintaxis del playbook"
   ]
  },
  {
   "cell_type": "code",
   "execution_count": null,
   "id": "4922330b-af67-425e-92e4-a3ee6687b5cd",
   "metadata": {},
   "outputs": [],
   "source": [
    "!ansible-playbook --syntax-check shutdown.yml -i inventarios/hosts.ini"
   ]
  }
 ],
 "metadata": {
  "kernelspec": {
   "display_name": "Python 3 (ipykernel)",
   "language": "python",
   "name": "python3"
  },
  "language_info": {
   "codemirror_mode": {
    "name": "ipython",
    "version": 3
   },
   "file_extension": ".py",
   "mimetype": "text/x-python",
   "name": "python",
   "nbconvert_exporter": "python",
   "pygments_lexer": "ipython3",
   "version": "3.8.10"
  }
 },
 "nbformat": 4,
 "nbformat_minor": 5
}
